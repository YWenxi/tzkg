{
 "cells": [
  {
   "cell_type": "code",
   "execution_count": 1,
   "metadata": {},
   "outputs": [
    {
     "name": "stderr",
     "output_type": "stream",
     "text": [
      "/root/knowledge-graph-reasoner-demo/tzkg/kg-demo-venv/lib/python3.8/site-packages/tqdm/auto.py:21: TqdmWarning: IProgress not found. Please update jupyter and ipywidgets. See https://ipywidgets.readthedocs.io/en/stable/user_install.html\n",
      "  from .autonotebook import tqdm as notebook_tqdm\n"
     ]
    }
   ],
   "source": [
    "from tzkg.demo_utils import *\n",
    "from tzkg.inference.config import base_configs as config"
   ]
  },
  {
   "cell_type": "code",
   "execution_count": 2,
   "metadata": {},
   "outputs": [],
   "source": [
    "config.cuda = True"
   ]
  },
  {
   "cell_type": "code",
   "execution_count": 3,
   "metadata": {},
   "outputs": [
    {
     "name": "stdout",
     "output_type": "stream",
     "text": [
      "#Entities: 3164          \n",
      "#Relations: 147          \n",
      "#Observed triplets: 3791          \n",
      "#Candidate rules: 36          \n",
      "#Final Rules: 8             \n",
      "#Hidden triplets: 497          \n",
      "#Triplets: 4288          \n"
     ]
    },
    {
     "name": "stderr",
     "output_type": "stream",
     "text": [
      "Training KGE(TransE):   2%|▏         | 239/10000 [00:30<17:56,  9.07step/s, loss=0.961, npl=0.299, ppl=0.081] "
     ]
    }
   ],
   "source": [
    "train_from_source_file(\n",
    "    source_file=\"test-data/wikimilitary/data.csv\",\n",
    "    main_path=\"test_output/test_wikimilitary\",\n",
    "    train_test_data_dir=\"test-data/wikimilitary\"\n",
    ")"
   ]
  }
 ],
 "metadata": {
  "kernelspec": {
   "display_name": "kg-demo-venv",
   "language": "python",
   "name": "python3"
  },
  "language_info": {
   "codemirror_mode": {
    "name": "ipython",
    "version": 3
   },
   "file_extension": ".py",
   "mimetype": "text/x-python",
   "name": "python",
   "nbconvert_exporter": "python",
   "pygments_lexer": "ipython3",
   "version": "3.8.17"
  },
  "orig_nbformat": 4
 },
 "nbformat": 4,
 "nbformat_minor": 2
}
