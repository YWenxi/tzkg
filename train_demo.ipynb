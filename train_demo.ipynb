{
 "cells": [
  {
   "cell_type": "code",
   "execution_count": 4,
   "metadata": {},
   "outputs": [],
   "source": [
    "from tzkg.demo_utils import *\n",
    "from tzkg.inference.config import base_configs as config\n",
    "from tzkg.inference.config import testing_configs"
   ]
  },
  {
   "cell_type": "code",
   "execution_count": 5,
   "metadata": {},
   "outputs": [],
   "source": [
    "config.cuda = True"
   ]
  },
  {
   "cell_type": "code",
   "execution_count": null,
   "metadata": {},
   "outputs": [],
   "source": [
    "train_from_source_file(\n",
    "    source_file=\"test-data/wikimilitary/wikimilitary.csv\",\n",
    "    main_path=\"test_output/test_wikimilitary\",\n",
    "    train_test_data_dir=\"test-data/wikimilitary\"\n",
    ")"
   ]
  },
  {
   "cell_type": "code",
   "execution_count": 6,
   "metadata": {},
   "outputs": [
    {
     "name": "stdout",
     "output_type": "stream",
     "text": [
      "#Entities: 8045          \n",
      "#Relations: 688          \n",
      "#Observed triplets: 10408          \n",
      "#Candidate rules: 91          \n",
      "#Final Rules: 58            \n",
      "#Hidden triplets: 845          \n",
      "#Triplets: 11253          \n"
     ]
    },
    {
     "name": "stderr",
     "output_type": "stream",
     "text": [
      "Training KGE(TransE):   0%|          | 0/10000 [00:00<?, ?step/s, loss=18.1, npl=1.46e-5, ppl=18.2]\n"
     ]
    },
    {
     "ename": "FileNotFoundError",
     "evalue": "[Errno 2] No such file or directory: '/root/knowledge-graph-reasoner-demo/tzkg/test_output/test_wikimilitary/0/TransE/config.json'",
     "output_type": "error",
     "traceback": [
      "\u001b[0;31m---------------------------------------------------------------------------\u001b[0m",
      "\u001b[0;31mFileNotFoundError\u001b[0m                         Traceback (most recent call last)",
      "Cell \u001b[0;32mIn[6], line 1\u001b[0m\n\u001b[0;32m----> 1\u001b[0m knowlegde_graph_completion(\n\u001b[1;32m      2\u001b[0m     source_file\u001b[39m=\u001b[39;49m\u001b[39m\"\u001b[39;49m\u001b[39mtest-data/wikimilitary/wikimilitary.csv\u001b[39;49m\u001b[39m\"\u001b[39;49m,\n\u001b[1;32m      3\u001b[0m     main_path\u001b[39m=\u001b[39;49m\u001b[39m\"\u001b[39;49m\u001b[39mtest_output/test_wikimilitary\u001b[39;49m\u001b[39m\"\u001b[39;49m,\n\u001b[1;32m      4\u001b[0m     train_test_data_dir\u001b[39m=\u001b[39;49m\u001b[39m\"\u001b[39;49m\u001b[39mtest-data/wikimilitary\u001b[39;49m\u001b[39m\"\u001b[39;49m,\n\u001b[1;32m      5\u001b[0m     configs\u001b[39m=\u001b[39;49mconfig\n\u001b[1;32m      6\u001b[0m )\n",
      "File \u001b[0;32m~/knowledge-graph-reasoner-demo/tzkg/tzkg/demo_utils.py:124\u001b[0m, in \u001b[0;36mknowlegde_graph_completion\u001b[0;34m(source_file, train_test_data_dir, main_path, threshold, iterations, configs)\u001b[0m\n\u001b[1;32m    118\u001b[0m override_config(configs, {\n\u001b[1;32m    119\u001b[0m     \u001b[39m\"\u001b[39m\u001b[39miterations\u001b[39m\u001b[39m\"\u001b[39m: iterations,\n\u001b[1;32m    120\u001b[0m     \u001b[39m\"\u001b[39m\u001b[39mmln_threshold_of_triplet\u001b[39m\u001b[39m\"\u001b[39m: threshold\n\u001b[1;32m    121\u001b[0m })\n\u001b[1;32m    123\u001b[0m \u001b[39mif\u001b[39;00m source_file:\n\u001b[0;32m--> 124\u001b[0m     configs \u001b[39m=\u001b[39m train_from_source_file(\n\u001b[1;32m    125\u001b[0m         source_file, \n\u001b[1;32m    126\u001b[0m         main_path\u001b[39m=\u001b[39;49mmain_path, \n\u001b[1;32m    127\u001b[0m         train_test_data_dir\u001b[39m=\u001b[39;49mtrain_test_data_dir, \n\u001b[1;32m    128\u001b[0m         iterations\u001b[39m=\u001b[39;49miterations,\n\u001b[1;32m    129\u001b[0m         configs\u001b[39m=\u001b[39;49mconfigs\n\u001b[1;32m    130\u001b[0m         )\n\u001b[1;32m    131\u001b[0m \u001b[39melif\u001b[39;00m train_test_data_dir:\n\u001b[1;32m    132\u001b[0m     configs \u001b[39m=\u001b[39m train_from_split_dataset(train_test_data_dir, main_path, configs, iterations)\n",
      "File \u001b[0;32m~/knowledge-graph-reasoner-demo/tzkg/tzkg/demo_utils.py:42\u001b[0m, in \u001b[0;36mtrain_from_source_file\u001b[0;34m(source_file, main_path, train_test_data_dir, configs, iterations)\u001b[0m\n\u001b[1;32m     34\u001b[0m     metadata \u001b[39m=\u001b[39m {\n\u001b[1;32m     35\u001b[0m         \u001b[39m\"\u001b[39m\u001b[39miteration_id\u001b[39m\u001b[39m\"\u001b[39m: iteration_id,\n\u001b[1;32m     36\u001b[0m         \u001b[39m\"\u001b[39m\u001b[39mworkspace_path\u001b[39m\u001b[39m\"\u001b[39m: setup_workspace(iteration_id, configs\u001b[39m.\u001b[39mmain_path)\n\u001b[1;32m     37\u001b[0m     }\n\u001b[1;32m     40\u001b[0m override_config(configs, metadata)\n\u001b[0;32m---> 42\u001b[0m train(configs)\n\u001b[1;32m     43\u001b[0m mln(configs\u001b[39m.\u001b[39mmain_path, configs\u001b[39m.\u001b[39mworkspace_path, preprocess\u001b[39m=\u001b[39m\u001b[39mFalse\u001b[39;00m)\n\u001b[1;32m     44\u001b[0m augment_triplet(\n\u001b[1;32m     45\u001b[0m     pred_file \u001b[39m=\u001b[39m Path(configs\u001b[39m.\u001b[39mworkspace_path) \u001b[39m/\u001b[39m \u001b[39m\"\u001b[39m\u001b[39mpred_mln.txt\u001b[39m\u001b[39m\"\u001b[39m,\n\u001b[1;32m     46\u001b[0m     trip_file \u001b[39m=\u001b[39m Path(configs\u001b[39m.\u001b[39mtrain_test_data_dir) \u001b[39m/\u001b[39m \u001b[39m\"\u001b[39m\u001b[39mtrain.txt\u001b[39m\u001b[39m\"\u001b[39m,\n\u001b[1;32m     47\u001b[0m     out_file \u001b[39m=\u001b[39m Path(configs\u001b[39m.\u001b[39mworkspace_path) \u001b[39m/\u001b[39m \u001b[39m\"\u001b[39m\u001b[39mtrain_augmented.txt\u001b[39m\u001b[39m\"\u001b[39m,\n\u001b[1;32m     48\u001b[0m     threshold \u001b[39m=\u001b[39m configs\u001b[39m.\u001b[39mmln_threshold_of_triplet\n\u001b[1;32m     49\u001b[0m )\n",
      "File \u001b[0;32m~/knowledge-graph-reasoner-demo/tzkg/tzkg/inference/train_utils.py:411\u001b[0m, in \u001b[0;36mtrain\u001b[0;34m(args)\u001b[0m\n\u001b[1;32m    405\u001b[0m \u001b[39mif\u001b[39;00m step \u001b[39m%\u001b[39m args\u001b[39m.\u001b[39msave_checkpoint_steps \u001b[39m==\u001b[39m \u001b[39m0\u001b[39m:\n\u001b[1;32m    406\u001b[0m     save_variable_list \u001b[39m=\u001b[39m {\n\u001b[1;32m    407\u001b[0m         \u001b[39m'\u001b[39m\u001b[39mstep\u001b[39m\u001b[39m'\u001b[39m: step, \n\u001b[1;32m    408\u001b[0m         \u001b[39m'\u001b[39m\u001b[39mcurrent_learning_rate\u001b[39m\u001b[39m'\u001b[39m: current_learning_rate,\n\u001b[1;32m    409\u001b[0m         \u001b[39m'\u001b[39m\u001b[39mwarm_up_steps\u001b[39m\u001b[39m'\u001b[39m: warm_up_steps\n\u001b[1;32m    410\u001b[0m     }\n\u001b[0;32m--> 411\u001b[0m     save_model(kge_model, optimizer, save_variable_list, args)\n\u001b[1;32m    413\u001b[0m \u001b[39mif\u001b[39;00m step \u001b[39m%\u001b[39m args\u001b[39m.\u001b[39mlog_steps \u001b[39m==\u001b[39m \u001b[39m0\u001b[39m:\n\u001b[1;32m    414\u001b[0m     metrics \u001b[39m=\u001b[39m {}\n",
      "File \u001b[0;32m~/knowledge-graph-reasoner-demo/tzkg/tzkg/inference/train_utils.py:72\u001b[0m, in \u001b[0;36msave_model\u001b[0;34m(model, optimizer, save_variable_list, args)\u001b[0m\n\u001b[1;32m     66\u001b[0m \u001b[39m\u001b[39m\u001b[39m'''\u001b[39;00m\n\u001b[1;32m     67\u001b[0m \u001b[39mSave the parameters of the model and the optimizer,\u001b[39;00m\n\u001b[1;32m     68\u001b[0m \u001b[39mas well as some other variables such as step and learning_rate\u001b[39;00m\n\u001b[1;32m     69\u001b[0m \u001b[39m'''\u001b[39;00m\n\u001b[1;32m     71\u001b[0m argparse_dict \u001b[39m=\u001b[39m \u001b[39mdict\u001b[39m(\u001b[39mvars\u001b[39m(args))\n\u001b[0;32m---> 72\u001b[0m \u001b[39mwith\u001b[39;00m \u001b[39mopen\u001b[39;49m(os\u001b[39m.\u001b[39;49mpath\u001b[39m.\u001b[39;49mjoin(args\u001b[39m.\u001b[39;49msave_path, \u001b[39m'\u001b[39;49m\u001b[39mconfig.json\u001b[39;49m\u001b[39m'\u001b[39;49m), \u001b[39m'\u001b[39;49m\u001b[39mw\u001b[39;49m\u001b[39m'\u001b[39;49m) \u001b[39mas\u001b[39;00m fjson:\n\u001b[1;32m     73\u001b[0m     json\u001b[39m.\u001b[39mdump(argparse_dict, fjson)\n\u001b[1;32m     75\u001b[0m torch\u001b[39m.\u001b[39msave({\n\u001b[1;32m     76\u001b[0m     \u001b[39m*\u001b[39m\u001b[39m*\u001b[39msave_variable_list,\n\u001b[1;32m     77\u001b[0m     \u001b[39m'\u001b[39m\u001b[39mmodel_state_dict\u001b[39m\u001b[39m'\u001b[39m: model\u001b[39m.\u001b[39mstate_dict(),\n\u001b[1;32m     78\u001b[0m     \u001b[39m'\u001b[39m\u001b[39moptimizer_state_dict\u001b[39m\u001b[39m'\u001b[39m: optimizer\u001b[39m.\u001b[39mstate_dict()},\n\u001b[1;32m     79\u001b[0m     os\u001b[39m.\u001b[39mpath\u001b[39m.\u001b[39mjoin(args\u001b[39m.\u001b[39msave_path, \u001b[39m'\u001b[39m\u001b[39mcheckpoint\u001b[39m\u001b[39m'\u001b[39m)\n\u001b[1;32m     80\u001b[0m )\n",
      "\u001b[0;31mFileNotFoundError\u001b[0m: [Errno 2] No such file or directory: '/root/knowledge-graph-reasoner-demo/tzkg/test_output/test_wikimilitary/0/TransE/config.json'"
     ]
    }
   ],
   "source": [
    "knowlegde_graph_completion(\n",
    "    source_file=\"test-data/wikimilitary/wikimilitary.csv\",\n",
    "    main_path=\"test_output/test_wikimilitary\",\n",
    "    train_test_data_dir=\"test-data/wikimilitary\",\n",
    "    configs=config\n",
    ")"
   ]
  }
 ],
 "metadata": {
  "kernelspec": {
   "display_name": "kg-demo-venv",
   "language": "python",
   "name": "python3"
  },
  "language_info": {
   "codemirror_mode": {
    "name": "ipython",
    "version": 3
   },
   "file_extension": ".py",
   "mimetype": "text/x-python",
   "name": "python",
   "nbconvert_exporter": "python",
   "pygments_lexer": "ipython3",
   "version": "3.8.17"
  },
  "orig_nbformat": 4
 },
 "nbformat": 4,
 "nbformat_minor": 2
}
