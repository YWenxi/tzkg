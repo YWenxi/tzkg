{
 "cells": [
  {
   "cell_type": "code",
   "execution_count": 1,
   "metadata": {},
   "outputs": [
    {
     "name": "stderr",
     "output_type": "stream",
     "text": [
      "/root/TZ-tech/knowledge-reasoning-demo/kg-demo-venv/lib/python3.10/site-packages/tqdm/auto.py:21: TqdmWarning: IProgress not found. Please update jupyter and ipywidgets. See https://ipywidgets.readthedocs.io/en/stable/user_install.html\n",
      "  from .autonotebook import tqdm as notebook_tqdm\n"
     ]
    }
   ],
   "source": [
    "from tzkg.demo_utils import *\n",
    "from tzkg.inference.config import base_configs as config\n",
    "from tzkg.inference.config import testing_configs"
   ]
  },
  {
   "cell_type": "code",
   "execution_count": 2,
   "metadata": {},
   "outputs": [],
   "source": [
    "config.cuda = True"
   ]
  },
  {
   "cell_type": "code",
   "execution_count": null,
   "metadata": {},
   "outputs": [],
   "source": [
    "train_from_source_file(\n",
    "    source_file=\"test-data/wikimilitary/data.csv\",\n",
    "    main_path=\"test_output/test_wikimilitary\",\n",
    "    train_test_data_dir=\"test-data/wikimilitary\"\n",
    ")"
   ]
  },
  {
   "cell_type": "code",
   "execution_count": 2,
   "metadata": {},
   "outputs": [
    {
     "name": "stderr",
     "output_type": "stream",
     "text": [
      "/root/TZ-tech/knowledge-reasoning-demo/tzkg/datasets/utils.py:42: UserWarning: train.txt and train_augmented.txt is already in test_output/test_wikimilitary\n",
      "  warnings.warn(f\"train.txt and train_augmented.txt is already in {main_path}\")\n"
     ]
    },
    {
     "name": "stdout",
     "output_type": "stream",
     "text": [
      "#Entities: 3164          \n",
      "#Relations: 147          \n",
      "#Observed triplets: 3791          \n",
      "#Candidate rules: 36          \n",
      "#Final Rules: 8             \n",
      "#Hidden triplets: 497          \n",
      "#Triplets: 4288          \n"
     ]
    },
    {
     "name": "stderr",
     "output_type": "stream",
     "text": [
      "/root/TZ-tech/knowledge-reasoning-demo/kg-demo-venv/lib/python3.10/site-packages/torch/utils/data/dataloader.py:560: UserWarning: This DataLoader will create 5 worker processes in total. Our suggested max number of worker in current system is 4, which is smaller than what this DataLoader is going to create. Please be aware that excessive worker creation might get DataLoader running slow or even freeze, lower the worker number to avoid potential slowness/freeze if necessary.\n",
      "  warnings.warn(_create_warning_msg(\n",
      "Testing Step (1/2): 100%|██████████| 30/30 [00:20<00:00,  1.49step/s] loss=12, npl=4.98e-5, ppl=17.4]  \n",
      "Testing Step (2/2): 100%|██████████| 30/30 [00:20<00:00,  1.43step/s]\n",
      "Training KGE(TransE): 100%|██████████| 4/4 [01:09<00:00, 17.43s/step, loss=12, npl=4.98e-5, ppl=17.4]\n",
      "Testing Step (1/2):  64%|██████▍   | 152/237 [01:37<00:53,  1.59step/s]"
     ]
    }
   ],
   "source": [
    "knowlegde_graph_completion(\n",
    "    source_file=\"test-data/wikimilitary/data.csv\",\n",
    "    main_path=\"test_output/test_wikimilitary\",\n",
    "    train_test_data_dir=\"test-data/wikimilitary\",\n",
    "    configs=testing_configs\n",
    ")"
   ]
  }
 ],
 "metadata": {
  "kernelspec": {
   "display_name": "kg-demo-venv",
   "language": "python",
   "name": "python3"
  },
  "language_info": {
   "codemirror_mode": {
    "name": "ipython",
    "version": 3
   },
   "file_extension": ".py",
   "mimetype": "text/x-python",
   "name": "python",
   "nbconvert_exporter": "python",
   "pygments_lexer": "ipython3",
   "version": "3.10.12"
  },
  "orig_nbformat": 4
 },
 "nbformat": 4,
 "nbformat_minor": 2
}
