{
 "cells": [
  {
   "cell_type": "code",
   "execution_count": 1,
   "metadata": {},
   "outputs": [
    {
     "name": "stderr",
     "output_type": "stream",
     "text": [
      "/root/TZ-tech/knowledge-reasoning-demo/kg-demo-venv/lib/python3.10/site-packages/tqdm/auto.py:21: TqdmWarning: IProgress not found. Please update jupyter and ipywidgets. See https://ipywidgets.readthedocs.io/en/stable/user_install.html\n",
      "  from .autonotebook import tqdm as notebook_tqdm\n"
     ]
    }
   ],
   "source": [
    "from tzkg.demo_utils import *\n",
    "from tzkg.inference.config import base_configs as config"
   ]
  },
  {
   "cell_type": "code",
   "execution_count": null,
   "metadata": {},
   "outputs": [],
   "source": [
    "config.cuda = True"
   ]
  },
  {
   "cell_type": "code",
   "execution_count": 2,
   "metadata": {},
   "outputs": [
    {
     "name": "stderr",
     "output_type": "stream",
     "text": [
      "/root/TZ-tech/knowledge-reasoning-demo/tzkg/datasets/utils.py:42: UserWarning: train.txt and train_augmented.txt is already in test_output/test_wikimilitary\n",
      "  warnings.warn(f\"train.txt and train_augmented.txt is already in {main_path}\")\n",
      "/root/TZ-tech/knowledge-reasoning-demo/kg-demo-venv/lib/python3.10/site-packages/torch/utils/data/dataloader.py:560: UserWarning: This DataLoader will create 5 worker processes in total. Our suggested max number of worker in current system is 4, which is smaller than what this DataLoader is going to create. Please be aware that excessive worker creation might get DataLoader running slow or even freeze, lower the worker number to avoid potential slowness/freeze if necessary.\n",
      "  warnings.warn(_create_warning_msg(\n"
     ]
    },
    {
     "name": "stdout",
     "output_type": "stream",
     "text": [
      "#Entities: 3164          \n",
      "#Relations: 147          \n",
      "#Observed triplets: 3791          \n",
      "#Candidate rules: 36          \n",
      "#Final Rules: 8             \n",
      "#Hidden triplets: 497          \n",
      "#Triplets: 4288          \n"
     ]
    },
    {
     "name": "stderr",
     "output_type": "stream",
     "text": [
      "Training KGE(TransE):   0%|          | 3/10000 [00:22<20:47:42,  7.49s/step, loss=12.3, npl=5.71e-5, ppl=17.8]\n"
     ]
    },
    {
     "ename": "KeyboardInterrupt",
     "evalue": "",
     "output_type": "error",
     "traceback": [
      "\u001b[0;31m---------------------------------------------------------------------------\u001b[0m",
      "\u001b[0;31mKeyboardInterrupt\u001b[0m                         Traceback (most recent call last)",
      "Cell \u001b[0;32mIn[2], line 1\u001b[0m\n\u001b[0;32m----> 1\u001b[0m train_from_source_file(\n\u001b[1;32m      2\u001b[0m     source_file\u001b[39m=\u001b[39;49m\u001b[39m\"\u001b[39;49m\u001b[39mtest-data/wikimilitary/data.csv\u001b[39;49m\u001b[39m\"\u001b[39;49m,\n\u001b[1;32m      3\u001b[0m     main_path\u001b[39m=\u001b[39;49m\u001b[39m\"\u001b[39;49m\u001b[39mtest_output/test_wikimilitary\u001b[39;49m\u001b[39m\"\u001b[39;49m,\n\u001b[1;32m      4\u001b[0m     train_test_data_dir\u001b[39m=\u001b[39;49m\u001b[39m\"\u001b[39;49m\u001b[39mtest-data/wikimilitary\u001b[39;49m\u001b[39m\"\u001b[39;49m\n\u001b[1;32m      5\u001b[0m )\n",
      "File \u001b[0;32m~/TZ-tech/knowledge-reasoning-demo/tzkg/demo_utils.py:40\u001b[0m, in \u001b[0;36mtrain_from_source_file\u001b[0;34m(source_file, main_path, train_test_data_dir, configs, iterations)\u001b[0m\n\u001b[1;32m     32\u001b[0m     metadata \u001b[39m=\u001b[39m {\n\u001b[1;32m     33\u001b[0m         \u001b[39m\"\u001b[39m\u001b[39miteration_id\u001b[39m\u001b[39m\"\u001b[39m: iteration_id,\n\u001b[1;32m     34\u001b[0m         \u001b[39m\"\u001b[39m\u001b[39mworkspace_path\u001b[39m\u001b[39m\"\u001b[39m: setup_workspace(iteration_id, configs\u001b[39m.\u001b[39mmain_path)\n\u001b[1;32m     35\u001b[0m     }\n\u001b[1;32m     38\u001b[0m override_config(configs, metadata)\n\u001b[0;32m---> 40\u001b[0m train(configs)\n\u001b[1;32m     41\u001b[0m mln(configs\u001b[39m.\u001b[39mmain_path, configs\u001b[39m.\u001b[39mworkspace_path, preprocess\u001b[39m=\u001b[39m\u001b[39mFalse\u001b[39;00m)\n\u001b[1;32m     42\u001b[0m augment_triplet(\n\u001b[1;32m     43\u001b[0m     pred_file \u001b[39m=\u001b[39m Path(configs\u001b[39m.\u001b[39mworkspace_path) \u001b[39m/\u001b[39m \u001b[39m\"\u001b[39m\u001b[39mpred_mln.txt\u001b[39m\u001b[39m\"\u001b[39m,\n\u001b[1;32m     44\u001b[0m     trip_file \u001b[39m=\u001b[39m Path(configs\u001b[39m.\u001b[39mtrain_test_data_dir) \u001b[39m/\u001b[39m \u001b[39m\"\u001b[39m\u001b[39mtrain.txt\u001b[39m\u001b[39m\"\u001b[39m,\n\u001b[1;32m     45\u001b[0m     out_file \u001b[39m=\u001b[39m Path(configs\u001b[39m.\u001b[39mworkspace_path) \u001b[39m/\u001b[39m \u001b[39m\"\u001b[39m\u001b[39mtrain_augmented.txt\u001b[39m\u001b[39m\"\u001b[39m,\n\u001b[1;32m     46\u001b[0m     threshold \u001b[39m=\u001b[39m configs\u001b[39m.\u001b[39mmln_threshold_of_triplet\n\u001b[1;32m     47\u001b[0m )\n",
      "File \u001b[0;32m~/TZ-tech/knowledge-reasoning-demo/tzkg/inference/train_utils.py:390\u001b[0m, in \u001b[0;36mtrain\u001b[0;34m(args)\u001b[0m\n\u001b[1;32m    387\u001b[0m metric_log \u001b[39m=\u001b[39m \u001b[39mdict\u001b[39m()\n\u001b[1;32m    388\u001b[0m \u001b[39mfor\u001b[39;00m step \u001b[39min\u001b[39;00m \u001b[39mrange\u001b[39m(init_step, args\u001b[39m.\u001b[39mmax_steps):\n\u001b[0;32m--> 390\u001b[0m     log \u001b[39m=\u001b[39m kge_model\u001b[39m.\u001b[39;49mtrain_step(kge_model, optimizer, train_iterator, args)\n\u001b[1;32m    391\u001b[0m     metric_log\u001b[39m.\u001b[39mupdate(get_sub_log(log))\n\u001b[1;32m    392\u001b[0m     pbar\u001b[39m.\u001b[39mset_postfix(\u001b[39m*\u001b[39m\u001b[39m*\u001b[39mmetric_log)\n",
      "File \u001b[0;32m~/TZ-tech/knowledge-reasoning-demo/tzkg/reasoners/kge/kge.py:300\u001b[0m, in \u001b[0;36mKGE.train_step\u001b[0;34m(model, optimizer, train_iterator, args)\u001b[0m\n\u001b[1;32m    297\u001b[0m \u001b[39melse\u001b[39;00m:\n\u001b[1;32m    298\u001b[0m     regularization_log \u001b[39m=\u001b[39m {}\n\u001b[0;32m--> 300\u001b[0m loss\u001b[39m.\u001b[39;49mbackward()\n\u001b[1;32m    302\u001b[0m optimizer\u001b[39m.\u001b[39mstep()\n\u001b[1;32m    304\u001b[0m log \u001b[39m=\u001b[39m {\n\u001b[1;32m    305\u001b[0m     \u001b[39m*\u001b[39m\u001b[39m*\u001b[39mregularization_log,\n\u001b[1;32m    306\u001b[0m     \u001b[39m'\u001b[39m\u001b[39mpositive_sample_loss\u001b[39m\u001b[39m'\u001b[39m: positive_sample_loss\u001b[39m.\u001b[39mitem(),\n\u001b[1;32m    307\u001b[0m     \u001b[39m'\u001b[39m\u001b[39mnegative_sample_loss\u001b[39m\u001b[39m'\u001b[39m: negative_sample_loss\u001b[39m.\u001b[39mitem(),\n\u001b[1;32m    308\u001b[0m     \u001b[39m'\u001b[39m\u001b[39mloss\u001b[39m\u001b[39m'\u001b[39m: loss\u001b[39m.\u001b[39mitem()\n\u001b[1;32m    309\u001b[0m }\n",
      "File \u001b[0;32m~/TZ-tech/knowledge-reasoning-demo/kg-demo-venv/lib/python3.10/site-packages/torch/_tensor.py:487\u001b[0m, in \u001b[0;36mTensor.backward\u001b[0;34m(self, gradient, retain_graph, create_graph, inputs)\u001b[0m\n\u001b[1;32m    477\u001b[0m \u001b[39mif\u001b[39;00m has_torch_function_unary(\u001b[39mself\u001b[39m):\n\u001b[1;32m    478\u001b[0m     \u001b[39mreturn\u001b[39;00m handle_torch_function(\n\u001b[1;32m    479\u001b[0m         Tensor\u001b[39m.\u001b[39mbackward,\n\u001b[1;32m    480\u001b[0m         (\u001b[39mself\u001b[39m,),\n\u001b[0;32m   (...)\u001b[0m\n\u001b[1;32m    485\u001b[0m         inputs\u001b[39m=\u001b[39minputs,\n\u001b[1;32m    486\u001b[0m     )\n\u001b[0;32m--> 487\u001b[0m torch\u001b[39m.\u001b[39;49mautograd\u001b[39m.\u001b[39;49mbackward(\n\u001b[1;32m    488\u001b[0m     \u001b[39mself\u001b[39;49m, gradient, retain_graph, create_graph, inputs\u001b[39m=\u001b[39;49minputs\n\u001b[1;32m    489\u001b[0m )\n",
      "File \u001b[0;32m~/TZ-tech/knowledge-reasoning-demo/kg-demo-venv/lib/python3.10/site-packages/torch/autograd/__init__.py:200\u001b[0m, in \u001b[0;36mbackward\u001b[0;34m(tensors, grad_tensors, retain_graph, create_graph, grad_variables, inputs)\u001b[0m\n\u001b[1;32m    195\u001b[0m     retain_graph \u001b[39m=\u001b[39m create_graph\n\u001b[1;32m    197\u001b[0m \u001b[39m# The reason we repeat same the comment below is that\u001b[39;00m\n\u001b[1;32m    198\u001b[0m \u001b[39m# some Python versions print out the first line of a multi-line function\u001b[39;00m\n\u001b[1;32m    199\u001b[0m \u001b[39m# calls in the traceback and some print out the last line\u001b[39;00m\n\u001b[0;32m--> 200\u001b[0m Variable\u001b[39m.\u001b[39;49m_execution_engine\u001b[39m.\u001b[39;49mrun_backward(  \u001b[39m# Calls into the C++ engine to run the backward pass\u001b[39;49;00m\n\u001b[1;32m    201\u001b[0m     tensors, grad_tensors_, retain_graph, create_graph, inputs,\n\u001b[1;32m    202\u001b[0m     allow_unreachable\u001b[39m=\u001b[39;49m\u001b[39mTrue\u001b[39;49;00m, accumulate_grad\u001b[39m=\u001b[39;49m\u001b[39mTrue\u001b[39;49;00m)\n",
      "\u001b[0;31mKeyboardInterrupt\u001b[0m: "
     ]
    }
   ],
   "source": [
    "train_from_source_file(\n",
    "    source_file=\"test-data/wikimilitary/data.csv\",\n",
    "    main_path=\"test_output/test_wikimilitary\",\n",
    "    train_test_data_dir=\"test-data/wikimilitary\"\n",
    ")"
   ]
  }
 ],
 "metadata": {
  "kernelspec": {
   "display_name": "kg-demo-venv",
   "language": "python",
   "name": "python3"
  },
  "language_info": {
   "codemirror_mode": {
    "name": "ipython",
    "version": 3
   },
   "file_extension": ".py",
   "mimetype": "text/x-python",
   "name": "python",
   "nbconvert_exporter": "python",
   "pygments_lexer": "ipython3",
   "version": "3.10.12"
  },
  "orig_nbformat": 4
 },
 "nbformat": 4,
 "nbformat_minor": 2
}
